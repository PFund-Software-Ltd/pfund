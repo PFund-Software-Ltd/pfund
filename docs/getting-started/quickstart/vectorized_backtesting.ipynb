{
 "cells": [
  {
   "cell_type": "markdown",
   "metadata": {
    "editable": true,
    "slideshow": {
     "slide_type": ""
    },
    "tags": []
   },
   "source": [
    "# Vectorized Backtesting"
   ]
  },
  {
   "cell_type": "markdown",
   "metadata": {
    "editable": true,
    "slideshow": {
     "slide_type": ""
    },
    "tags": []
   },
   "source": [
    "```{tip}\n",
    "This is a Jupyter Notebook, to accesss/download the `ipynb` file, please click the github/download icon button in the top right corner.\n",
    "```"
   ]
  },
  {
   "cell_type": "code",
   "execution_count": 1,
   "metadata": {
    "editable": true,
    "slideshow": {
     "slide_type": ""
    },
    "tags": []
   },
   "outputs": [
    {
     "data": {
      "text/plain": [
       "'0.0.1.dev4'"
      ]
     },
     "execution_count": 1,
     "metadata": {},
     "output_type": "execute_result"
    }
   ],
   "source": [
    "import pfund as pf\n",
    "from IPython.display import display\n",
    "\n",
    "pf.__version__"
   ]
  },
  {
   "cell_type": "markdown",
   "metadata": {
    "editable": true,
    "slideshow": {
     "slide_type": ""
    },
    "tags": []
   },
   "source": [
    "## Create backtest() in Strategy"
   ]
  },
  {
   "cell_type": "markdown",
   "metadata": {
    "editable": true,
    "slideshow": {
     "slide_type": ""
    },
    "tags": []
   },
   "source": [
    "> backtest() in strategy is only used for vectorized backtesting, which is for strategy prototyping."
   ]
  },
  {
   "cell_type": "code",
   "execution_count": 2,
   "metadata": {
    "editable": true,
    "slideshow": {
     "slide_type": ""
    },
    "tags": []
   },
   "outputs": [],
   "source": [
    "class DemoStrategy(pf.Strategy):\n",
    "    def backtest(self):\n",
    "        # NOTE: in the future, this dataframe will change depending on your chosen data tool, e.g. pandas, polars, pyspark etc.\n",
    "        # a dataframe with added data is prepared for you automatically\n",
    "        print(f'Printing dataframe of Strategy \"{self.name}\":\\n')\n",
    "        display(self.df.tail())\n",
    "\n",
    "        # TODO: fill in strategy logic\n",
    "        # TODO: show metrics using pyfolio"
   ]
  },
  {
   "cell_type": "markdown",
   "metadata": {
    "editable": true,
    "slideshow": {
     "slide_type": ""
    },
    "tags": []
   },
   "source": [
    "## Workflow: engine -> strategy -> data -> run()"
   ]
  },
  {
   "cell_type": "code",
   "execution_count": 3,
   "metadata": {
    "editable": true,
    "slideshow": {
     "slide_type": ""
    },
    "tags": [
     "hide-output"
    ]
   },
   "outputs": [
    {
     "data": {
      "text/html": [
       "<pre style=\"white-space:pre;overflow-x:auto;line-height:normal;font-family:Menlo,'DejaVu Sans Mono',consolas,'Courier New',monospace\"><span style=\"color: #000080; text-decoration-color: #000080; font-weight: bold\">BACKTEST Engine is running</span>\n",
       "</pre>\n"
      ],
      "text/plain": [
       "\u001b[1;34mBACKTEST Engine is running\u001b[0m\n"
      ]
     },
     "metadata": {},
     "output_type": "display_data"
    },
    {
     "name": "stderr",
     "output_type": "stream",
     "text": [
      "2024-02-15T21:06:49+0800.589 | DEBUG | strategy_manager | added strategy 'demo_strategy' | fn:add_strategy ln:84\n",
      "2024-02-15T21:06:49+0800.773 | DEBUG | connection_manager | added IB api | fn:add_api ln:75\n"
     ]
    },
    {
     "name": "stdout",
     "output_type": "stream",
     "text": [
      "loaded config /Users/stephenyau/pfundai/pfund/pfund/config/ib/config.yml\n",
      "Printing dataframe of Strategy \"demo_strategy\":\n",
      "\n"
     ]
    },
    {
     "name": "stderr",
     "output_type": "stream",
     "text": [
      "/Users/stephenyau/miniconda3/envs/pfund/lib/python3.11/site-packages/yfinance/utils.py:775: FutureWarning: The 'unit' keyword in TimedeltaIndex construction is deprecated and will be removed in a future version. Use pd.to_timedelta instead.\n",
      "  df.index += _pd.TimedeltaIndex(dst_error_hours, 'h')\n"
     ]
    },
    {
     "data": {
      "text/html": [
       "<div>\n",
       "<style scoped>\n",
       "    .dataframe tbody tr th:only-of-type {\n",
       "        vertical-align: middle;\n",
       "    }\n",
       "\n",
       "    .dataframe tbody tr th {\n",
       "        vertical-align: top;\n",
       "    }\n",
       "\n",
       "    .dataframe thead th {\n",
       "        text-align: right;\n",
       "    }\n",
       "</style>\n",
       "<table border=\"1\" class=\"dataframe\">\n",
       "  <thead>\n",
       "    <tr style=\"text-align: right;\">\n",
       "      <th></th>\n",
       "      <th></th>\n",
       "      <th></th>\n",
       "      <th>open</th>\n",
       "      <th>high</th>\n",
       "      <th>low</th>\n",
       "      <th>close</th>\n",
       "      <th>volume</th>\n",
       "      <th>dividends</th>\n",
       "      <th>stock_splits</th>\n",
       "    </tr>\n",
       "    <tr>\n",
       "      <th>ts</th>\n",
       "      <th>product</th>\n",
       "      <th>resolution</th>\n",
       "      <th></th>\n",
       "      <th></th>\n",
       "      <th></th>\n",
       "      <th></th>\n",
       "      <th></th>\n",
       "      <th></th>\n",
       "      <th></th>\n",
       "    </tr>\n",
       "  </thead>\n",
       "  <tbody>\n",
       "    <tr>\n",
       "      <th>2024-01-25 05:00:00</th>\n",
       "      <th>IB-SMART-AAPL_USD_STK</th>\n",
       "      <th>1d</th>\n",
       "      <td>194.971211</td>\n",
       "      <td>196.019876</td>\n",
       "      <td>192.863900</td>\n",
       "      <td>193.922546</td>\n",
       "      <td>54822100</td>\n",
       "      <td>0.0</td>\n",
       "      <td>0.0</td>\n",
       "    </tr>\n",
       "    <tr>\n",
       "      <th>2024-01-26 05:00:00</th>\n",
       "      <th>IB-SMART-AAPL_USD_STK</th>\n",
       "      <th>1d</th>\n",
       "      <td>194.022423</td>\n",
       "      <td>194.511788</td>\n",
       "      <td>191.695390</td>\n",
       "      <td>192.174774</td>\n",
       "      <td>44594000</td>\n",
       "      <td>0.0</td>\n",
       "      <td>0.0</td>\n",
       "    </tr>\n",
       "    <tr>\n",
       "      <th>2024-01-29 05:00:00</th>\n",
       "      <th>IB-SMART-AAPL_USD_STK</th>\n",
       "      <th>1d</th>\n",
       "      <td>191.765299</td>\n",
       "      <td>191.955059</td>\n",
       "      <td>189.338403</td>\n",
       "      <td>191.485657</td>\n",
       "      <td>47145600</td>\n",
       "      <td>0.0</td>\n",
       "      <td>0.0</td>\n",
       "    </tr>\n",
       "    <tr>\n",
       "      <th>2024-01-30 05:00:00</th>\n",
       "      <th>IB-SMART-AAPL_USD_STK</th>\n",
       "      <th>1d</th>\n",
       "      <td>190.696667</td>\n",
       "      <td>191.555572</td>\n",
       "      <td>187.231088</td>\n",
       "      <td>187.800354</td>\n",
       "      <td>55859400</td>\n",
       "      <td>0.0</td>\n",
       "      <td>0.0</td>\n",
       "    </tr>\n",
       "    <tr>\n",
       "      <th>2024-01-31 05:00:00</th>\n",
       "      <th>IB-SMART-AAPL_USD_STK</th>\n",
       "      <th>1d</th>\n",
       "      <td>186.801628</td>\n",
       "      <td>186.861565</td>\n",
       "      <td>184.115069</td>\n",
       "      <td>184.164993</td>\n",
       "      <td>55467800</td>\n",
       "      <td>0.0</td>\n",
       "      <td>0.0</td>\n",
       "    </tr>\n",
       "  </tbody>\n",
       "</table>\n",
       "</div>"
      ],
      "text/plain": [
       "                                                            open        high  \\\n",
       "ts                  product               resolution                           \n",
       "2024-01-25 05:00:00 IB-SMART-AAPL_USD_STK 1d          194.971211  196.019876   \n",
       "2024-01-26 05:00:00 IB-SMART-AAPL_USD_STK 1d          194.022423  194.511788   \n",
       "2024-01-29 05:00:00 IB-SMART-AAPL_USD_STK 1d          191.765299  191.955059   \n",
       "2024-01-30 05:00:00 IB-SMART-AAPL_USD_STK 1d          190.696667  191.555572   \n",
       "2024-01-31 05:00:00 IB-SMART-AAPL_USD_STK 1d          186.801628  186.861565   \n",
       "\n",
       "                                                             low       close  \\\n",
       "ts                  product               resolution                           \n",
       "2024-01-25 05:00:00 IB-SMART-AAPL_USD_STK 1d          192.863900  193.922546   \n",
       "2024-01-26 05:00:00 IB-SMART-AAPL_USD_STK 1d          191.695390  192.174774   \n",
       "2024-01-29 05:00:00 IB-SMART-AAPL_USD_STK 1d          189.338403  191.485657   \n",
       "2024-01-30 05:00:00 IB-SMART-AAPL_USD_STK 1d          187.231088  187.800354   \n",
       "2024-01-31 05:00:00 IB-SMART-AAPL_USD_STK 1d          184.115069  184.164993   \n",
       "\n",
       "                                                        volume  dividends  \\\n",
       "ts                  product               resolution                        \n",
       "2024-01-25 05:00:00 IB-SMART-AAPL_USD_STK 1d          54822100        0.0   \n",
       "2024-01-26 05:00:00 IB-SMART-AAPL_USD_STK 1d          44594000        0.0   \n",
       "2024-01-29 05:00:00 IB-SMART-AAPL_USD_STK 1d          47145600        0.0   \n",
       "2024-01-30 05:00:00 IB-SMART-AAPL_USD_STK 1d          55859400        0.0   \n",
       "2024-01-31 05:00:00 IB-SMART-AAPL_USD_STK 1d          55467800        0.0   \n",
       "\n",
       "                                                      stock_splits  \n",
       "ts                  product               resolution                \n",
       "2024-01-25 05:00:00 IB-SMART-AAPL_USD_STK 1d                   0.0  \n",
       "2024-01-26 05:00:00 IB-SMART-AAPL_USD_STK 1d                   0.0  \n",
       "2024-01-29 05:00:00 IB-SMART-AAPL_USD_STK 1d                   0.0  \n",
       "2024-01-30 05:00:00 IB-SMART-AAPL_USD_STK 1d                   0.0  \n",
       "2024-01-31 05:00:00 IB-SMART-AAPL_USD_STK 1d                   0.0  "
      ]
     },
     "metadata": {},
     "output_type": "display_data"
    }
   ],
   "source": [
    "# Step 1. initialize backtest engine\n",
    "engine = pf.BacktestEngine(mode='vectorized')\n",
    "\n",
    "# Step 2. add strategy to engine\n",
    "strategy = engine.add_strategy(DemoStrategy(), name='demo_strategy')\n",
    "\n",
    "# Step 3. add data to strategy\n",
    "'''\n",
    "IB = Interactive Brokers\n",
    "AAPL = Stock ticker for Apple Inc.\n",
    "USD = Quote currency\n",
    "STK = Stock\n",
    "'1d' = Daily data, if use '2d', = 2-day aggregated daily data\n",
    "'''\n",
    "strategy.add_data(\n",
    "    'IB', 'AAPL', 'USD', 'STK', resolutions=['1d'],\n",
    "    backtest={\n",
    "        # NOTE: since IB does not provide any historical data for backtesting purpose, use data from 'YAHOO_FINANCE'\n",
    "        'data_source': 'YAHOO_FINANCE',\n",
    "        'start_date': '2024-01-01',\n",
    "        'end_date': '2024-02-01',\n",
    "    }\n",
    ")\n",
    "\n",
    "# Step 4. run engine\n",
    "engine.run()"
   ]
  },
  {
   "cell_type": "markdown",
   "metadata": {
    "editable": true,
    "slideshow": {
     "slide_type": ""
    },
    "tags": []
   },
   "source": [
    "```{warning}\n",
    "You can't run engine.run() again since all the raw data have been erased. For some reason, if you want to get the df of the strategy, you can:\n",
    "```"
   ]
  },
  {
   "cell_type": "code",
   "execution_count": 4,
   "metadata": {
    "editable": true,
    "slideshow": {
     "slide_type": ""
    },
    "tags": [
     "hide-output"
    ]
   },
   "outputs": [
    {
     "data": {
      "text/html": [
       "<div>\n",
       "<style scoped>\n",
       "    .dataframe tbody tr th:only-of-type {\n",
       "        vertical-align: middle;\n",
       "    }\n",
       "\n",
       "    .dataframe tbody tr th {\n",
       "        vertical-align: top;\n",
       "    }\n",
       "\n",
       "    .dataframe thead th {\n",
       "        text-align: right;\n",
       "    }\n",
       "</style>\n",
       "<table border=\"1\" class=\"dataframe\">\n",
       "  <thead>\n",
       "    <tr style=\"text-align: right;\">\n",
       "      <th></th>\n",
       "      <th></th>\n",
       "      <th></th>\n",
       "      <th>open</th>\n",
       "      <th>high</th>\n",
       "      <th>low</th>\n",
       "      <th>close</th>\n",
       "      <th>volume</th>\n",
       "      <th>dividends</th>\n",
       "      <th>stock_splits</th>\n",
       "    </tr>\n",
       "    <tr>\n",
       "      <th>ts</th>\n",
       "      <th>product</th>\n",
       "      <th>resolution</th>\n",
       "      <th></th>\n",
       "      <th></th>\n",
       "      <th></th>\n",
       "      <th></th>\n",
       "      <th></th>\n",
       "      <th></th>\n",
       "      <th></th>\n",
       "    </tr>\n",
       "  </thead>\n",
       "  <tbody>\n",
       "    <tr>\n",
       "      <th>2024-01-02 05:00:00</th>\n",
       "      <th>IB-SMART-AAPL_USD_STK</th>\n",
       "      <th>1d</th>\n",
       "      <td>186.911482</td>\n",
       "      <td>188.199846</td>\n",
       "      <td>183.655642</td>\n",
       "      <td>185.403412</td>\n",
       "      <td>82488700</td>\n",
       "      <td>0.0</td>\n",
       "      <td>0.0</td>\n",
       "    </tr>\n",
       "    <tr>\n",
       "      <th>2024-01-03 05:00:00</th>\n",
       "      <th>IB-SMART-AAPL_USD_STK</th>\n",
       "      <th>1d</th>\n",
       "      <td>183.985237</td>\n",
       "      <td>185.643125</td>\n",
       "      <td>183.196235</td>\n",
       "      <td>184.015198</td>\n",
       "      <td>58414500</td>\n",
       "      <td>0.0</td>\n",
       "      <td>0.0</td>\n",
       "    </tr>\n",
       "    <tr>\n",
       "      <th>2024-01-04 05:00:00</th>\n",
       "      <th>IB-SMART-AAPL_USD_STK</th>\n",
       "      <th>1d</th>\n",
       "      <td>181.917861</td>\n",
       "      <td>182.856666</td>\n",
       "      <td>180.649491</td>\n",
       "      <td>181.678177</td>\n",
       "      <td>71983600</td>\n",
       "      <td>0.0</td>\n",
       "      <td>0.0</td>\n",
       "    </tr>\n",
       "    <tr>\n",
       "      <th>2024-01-05 05:00:00</th>\n",
       "      <th>IB-SMART-AAPL_USD_STK</th>\n",
       "      <th>1d</th>\n",
       "      <td>181.758077</td>\n",
       "      <td>182.527085</td>\n",
       "      <td>179.940389</td>\n",
       "      <td>180.949097</td>\n",
       "      <td>62303300</td>\n",
       "      <td>0.0</td>\n",
       "      <td>0.0</td>\n",
       "    </tr>\n",
       "    <tr>\n",
       "      <th>2024-01-08 05:00:00</th>\n",
       "      <th>IB-SMART-AAPL_USD_STK</th>\n",
       "      <th>1d</th>\n",
       "      <td>181.857938</td>\n",
       "      <td>185.363474</td>\n",
       "      <td>181.268693</td>\n",
       "      <td>185.323517</td>\n",
       "      <td>59144500</td>\n",
       "      <td>0.0</td>\n",
       "      <td>0.0</td>\n",
       "    </tr>\n",
       "  </tbody>\n",
       "</table>\n",
       "</div>"
      ],
      "text/plain": [
       "                                                            open        high  \\\n",
       "ts                  product               resolution                           \n",
       "2024-01-02 05:00:00 IB-SMART-AAPL_USD_STK 1d          186.911482  188.199846   \n",
       "2024-01-03 05:00:00 IB-SMART-AAPL_USD_STK 1d          183.985237  185.643125   \n",
       "2024-01-04 05:00:00 IB-SMART-AAPL_USD_STK 1d          181.917861  182.856666   \n",
       "2024-01-05 05:00:00 IB-SMART-AAPL_USD_STK 1d          181.758077  182.527085   \n",
       "2024-01-08 05:00:00 IB-SMART-AAPL_USD_STK 1d          181.857938  185.363474   \n",
       "\n",
       "                                                             low       close  \\\n",
       "ts                  product               resolution                           \n",
       "2024-01-02 05:00:00 IB-SMART-AAPL_USD_STK 1d          183.655642  185.403412   \n",
       "2024-01-03 05:00:00 IB-SMART-AAPL_USD_STK 1d          183.196235  184.015198   \n",
       "2024-01-04 05:00:00 IB-SMART-AAPL_USD_STK 1d          180.649491  181.678177   \n",
       "2024-01-05 05:00:00 IB-SMART-AAPL_USD_STK 1d          179.940389  180.949097   \n",
       "2024-01-08 05:00:00 IB-SMART-AAPL_USD_STK 1d          181.268693  185.323517   \n",
       "\n",
       "                                                        volume  dividends  \\\n",
       "ts                  product               resolution                        \n",
       "2024-01-02 05:00:00 IB-SMART-AAPL_USD_STK 1d          82488700        0.0   \n",
       "2024-01-03 05:00:00 IB-SMART-AAPL_USD_STK 1d          58414500        0.0   \n",
       "2024-01-04 05:00:00 IB-SMART-AAPL_USD_STK 1d          71983600        0.0   \n",
       "2024-01-05 05:00:00 IB-SMART-AAPL_USD_STK 1d          62303300        0.0   \n",
       "2024-01-08 05:00:00 IB-SMART-AAPL_USD_STK 1d          59144500        0.0   \n",
       "\n",
       "                                                      stock_splits  \n",
       "ts                  product               resolution                \n",
       "2024-01-02 05:00:00 IB-SMART-AAPL_USD_STK 1d                   0.0  \n",
       "2024-01-03 05:00:00 IB-SMART-AAPL_USD_STK 1d                   0.0  \n",
       "2024-01-04 05:00:00 IB-SMART-AAPL_USD_STK 1d                   0.0  \n",
       "2024-01-05 05:00:00 IB-SMART-AAPL_USD_STK 1d                   0.0  \n",
       "2024-01-08 05:00:00 IB-SMART-AAPL_USD_STK 1d                   0.0  "
      ]
     },
     "execution_count": 4,
     "metadata": {},
     "output_type": "execute_result"
    }
   ],
   "source": [
    "df = strategy.get_df()\n",
    "df.head()"
   ]
  },
  {
   "cell_type": "markdown",
   "metadata": {
    "editable": true,
    "slideshow": {
     "slide_type": ""
    },
    "tags": []
   },
   "source": [
    "---"
   ]
  },
  {
   "cell_type": "markdown",
   "metadata": {
    "editable": true,
    "slideshow": {
     "slide_type": ""
    },
    "tags": []
   },
   "source": [
    "Now you might be wondering why use `pfund` at all? because you can do pretty much the same thing using [yfinance](https://github.com/ranaroussi/yfinance) to get your desired dataframe.\n",
    "Here comes the power of `pfund`"
   ]
  },
  {
   "cell_type": "markdown",
   "metadata": {
    "editable": true,
    "slideshow": {
     "slide_type": ""
    },
    "tags": []
   },
   "source": [
    "## Add More Data"
   ]
  },
  {
   "cell_type": "code",
   "execution_count": 7,
   "metadata": {
    "editable": true,
    "slideshow": {
     "slide_type": ""
    },
    "tags": []
   },
   "outputs": [
    {
     "name": "stderr",
     "output_type": "stream",
     "text": [
      "/Users/stephenyau/miniconda3/envs/pfund/lib/python3.11/site-packages/yfinance/utils.py:775: FutureWarning: The 'unit' keyword in TimedeltaIndex construction is deprecated and will be removed in a future version. Use pd.to_timedelta instead.\n",
      "  df.index += _pd.TimedeltaIndex(dst_error_hours, 'h')\n",
      "2024-02-15T21:13:34+0800.250 | DEBUG | bybit | calling https://public.bybit.com/trading/BTCUSDT | fn:get ln:20\n",
      "2024-02-15T21:13:34+0800.708 | DEBUG | bybit | calling https://public.bybit.com/trading/BTCUSDT/BTCUSDT2024-01-01.csv.gz | fn:get ln:20\n"
     ]
    },
    {
     "name": "stdout",
     "output_type": "stream",
     "text": [
      "MinIO is running on http://localhost:9000\n",
      "Downloading BYBIT BTC_USDT_PERP 2024-01-01 data on the fly, please consider using bybit.run_historical(...) to pre-download data to your local computer first\n"
     ]
    },
    {
     "name": "stderr",
     "output_type": "stream",
     "text": [
      "2024-02-15T21:13:36+0800.833 | DEBUG | bybit | calling https://public.bybit.com/trading/BTCUSDT/BTCUSDT2024-01-02.csv.gz | fn:get ln:20\n"
     ]
    },
    {
     "name": "stdout",
     "output_type": "stream",
     "text": [
      "resampled BYBIT BTC_USDT_PERP 2024-01-01 data to resolution='2d'\n",
      "MinIO is running on http://localhost:9000\n",
      "Downloading BYBIT BTC_USDT_PERP 2024-01-02 data on the fly, please consider using bybit.run_historical(...) to pre-download data to your local computer first\n"
     ]
    },
    {
     "name": "stderr",
     "output_type": "stream",
     "text": [
      "2024-02-15T21:13:42+0800.834 | DEBUG | bybit | calling https://public.bybit.com/trading/BTCUSDT/BTCUSDT2024-01-03.csv.gz | fn:get ln:20\n"
     ]
    },
    {
     "name": "stdout",
     "output_type": "stream",
     "text": [
      "resampled BYBIT BTC_USDT_PERP 2024-01-02 data to resolution='2d'\n",
      "MinIO is running on http://localhost:9000\n",
      "Downloading BYBIT BTC_USDT_PERP 2024-01-03 data on the fly, please consider using bybit.run_historical(...) to pre-download data to your local computer first\n",
      "resampled BYBIT BTC_USDT_PERP 2024-01-03 data to resolution='2d'\n",
      "Printing dataframe of Strategy \"demo_strategy\":\n",
      "\n"
     ]
    },
    {
     "data": {
      "text/html": [
       "<div>\n",
       "<style scoped>\n",
       "    .dataframe tbody tr th:only-of-type {\n",
       "        vertical-align: middle;\n",
       "    }\n",
       "\n",
       "    .dataframe tbody tr th {\n",
       "        vertical-align: top;\n",
       "    }\n",
       "\n",
       "    .dataframe thead th {\n",
       "        text-align: right;\n",
       "    }\n",
       "</style>\n",
       "<table border=\"1\" class=\"dataframe\">\n",
       "  <thead>\n",
       "    <tr style=\"text-align: right;\">\n",
       "      <th></th>\n",
       "      <th></th>\n",
       "      <th></th>\n",
       "      <th>open</th>\n",
       "      <th>high</th>\n",
       "      <th>low</th>\n",
       "      <th>close</th>\n",
       "      <th>volume</th>\n",
       "      <th>dividends</th>\n",
       "      <th>stock_splits</th>\n",
       "      <th>num_buys</th>\n",
       "      <th>num_sells</th>\n",
       "      <th>buy_volume</th>\n",
       "      <th>sell_volume</th>\n",
       "      <th>first</th>\n",
       "    </tr>\n",
       "    <tr>\n",
       "      <th>ts</th>\n",
       "      <th>product</th>\n",
       "      <th>resolution</th>\n",
       "      <th></th>\n",
       "      <th></th>\n",
       "      <th></th>\n",
       "      <th></th>\n",
       "      <th></th>\n",
       "      <th></th>\n",
       "      <th></th>\n",
       "      <th></th>\n",
       "      <th></th>\n",
       "      <th></th>\n",
       "      <th></th>\n",
       "      <th></th>\n",
       "    </tr>\n",
       "  </thead>\n",
       "  <tbody>\n",
       "    <tr>\n",
       "      <th>2024-01-25 05:00:00</th>\n",
       "      <th>IB-SMART-AAPL_USD_STK</th>\n",
       "      <th>1d</th>\n",
       "      <td>194.971211</td>\n",
       "      <td>196.019876</td>\n",
       "      <td>192.863900</td>\n",
       "      <td>193.922546</td>\n",
       "      <td>54822100.0</td>\n",
       "      <td>0.0</td>\n",
       "      <td>0.0</td>\n",
       "      <td>NaN</td>\n",
       "      <td>NaN</td>\n",
       "      <td>NaN</td>\n",
       "      <td>NaN</td>\n",
       "      <td>NaN</td>\n",
       "    </tr>\n",
       "    <tr>\n",
       "      <th>2024-01-26 05:00:00</th>\n",
       "      <th>IB-SMART-AAPL_USD_STK</th>\n",
       "      <th>1d</th>\n",
       "      <td>194.022423</td>\n",
       "      <td>194.511788</td>\n",
       "      <td>191.695390</td>\n",
       "      <td>192.174774</td>\n",
       "      <td>44594000.0</td>\n",
       "      <td>0.0</td>\n",
       "      <td>0.0</td>\n",
       "      <td>NaN</td>\n",
       "      <td>NaN</td>\n",
       "      <td>NaN</td>\n",
       "      <td>NaN</td>\n",
       "      <td>NaN</td>\n",
       "    </tr>\n",
       "    <tr>\n",
       "      <th>2024-01-29 05:00:00</th>\n",
       "      <th>IB-SMART-AAPL_USD_STK</th>\n",
       "      <th>1d</th>\n",
       "      <td>191.765299</td>\n",
       "      <td>191.955059</td>\n",
       "      <td>189.338403</td>\n",
       "      <td>191.485657</td>\n",
       "      <td>47145600.0</td>\n",
       "      <td>0.0</td>\n",
       "      <td>0.0</td>\n",
       "      <td>NaN</td>\n",
       "      <td>NaN</td>\n",
       "      <td>NaN</td>\n",
       "      <td>NaN</td>\n",
       "      <td>NaN</td>\n",
       "    </tr>\n",
       "    <tr>\n",
       "      <th>2024-01-30 05:00:00</th>\n",
       "      <th>IB-SMART-AAPL_USD_STK</th>\n",
       "      <th>1d</th>\n",
       "      <td>190.696667</td>\n",
       "      <td>191.555572</td>\n",
       "      <td>187.231088</td>\n",
       "      <td>187.800354</td>\n",
       "      <td>55859400.0</td>\n",
       "      <td>0.0</td>\n",
       "      <td>0.0</td>\n",
       "      <td>NaN</td>\n",
       "      <td>NaN</td>\n",
       "      <td>NaN</td>\n",
       "      <td>NaN</td>\n",
       "      <td>NaN</td>\n",
       "    </tr>\n",
       "    <tr>\n",
       "      <th>2024-01-31 05:00:00</th>\n",
       "      <th>IB-SMART-AAPL_USD_STK</th>\n",
       "      <th>1d</th>\n",
       "      <td>186.801628</td>\n",
       "      <td>186.861565</td>\n",
       "      <td>184.115069</td>\n",
       "      <td>184.164993</td>\n",
       "      <td>55467800.0</td>\n",
       "      <td>0.0</td>\n",
       "      <td>0.0</td>\n",
       "      <td>NaN</td>\n",
       "      <td>NaN</td>\n",
       "      <td>NaN</td>\n",
       "      <td>NaN</td>\n",
       "      <td>NaN</td>\n",
       "    </tr>\n",
       "  </tbody>\n",
       "</table>\n",
       "</div>"
      ],
      "text/plain": [
       "                                                            open        high  \\\n",
       "ts                  product               resolution                           \n",
       "2024-01-25 05:00:00 IB-SMART-AAPL_USD_STK 1d          194.971211  196.019876   \n",
       "2024-01-26 05:00:00 IB-SMART-AAPL_USD_STK 1d          194.022423  194.511788   \n",
       "2024-01-29 05:00:00 IB-SMART-AAPL_USD_STK 1d          191.765299  191.955059   \n",
       "2024-01-30 05:00:00 IB-SMART-AAPL_USD_STK 1d          190.696667  191.555572   \n",
       "2024-01-31 05:00:00 IB-SMART-AAPL_USD_STK 1d          186.801628  186.861565   \n",
       "\n",
       "                                                             low       close  \\\n",
       "ts                  product               resolution                           \n",
       "2024-01-25 05:00:00 IB-SMART-AAPL_USD_STK 1d          192.863900  193.922546   \n",
       "2024-01-26 05:00:00 IB-SMART-AAPL_USD_STK 1d          191.695390  192.174774   \n",
       "2024-01-29 05:00:00 IB-SMART-AAPL_USD_STK 1d          189.338403  191.485657   \n",
       "2024-01-30 05:00:00 IB-SMART-AAPL_USD_STK 1d          187.231088  187.800354   \n",
       "2024-01-31 05:00:00 IB-SMART-AAPL_USD_STK 1d          184.115069  184.164993   \n",
       "\n",
       "                                                          volume  dividends  \\\n",
       "ts                  product               resolution                          \n",
       "2024-01-25 05:00:00 IB-SMART-AAPL_USD_STK 1d          54822100.0        0.0   \n",
       "2024-01-26 05:00:00 IB-SMART-AAPL_USD_STK 1d          44594000.0        0.0   \n",
       "2024-01-29 05:00:00 IB-SMART-AAPL_USD_STK 1d          47145600.0        0.0   \n",
       "2024-01-30 05:00:00 IB-SMART-AAPL_USD_STK 1d          55859400.0        0.0   \n",
       "2024-01-31 05:00:00 IB-SMART-AAPL_USD_STK 1d          55467800.0        0.0   \n",
       "\n",
       "                                                      stock_splits  num_buys  \\\n",
       "ts                  product               resolution                           \n",
       "2024-01-25 05:00:00 IB-SMART-AAPL_USD_STK 1d                   0.0       NaN   \n",
       "2024-01-26 05:00:00 IB-SMART-AAPL_USD_STK 1d                   0.0       NaN   \n",
       "2024-01-29 05:00:00 IB-SMART-AAPL_USD_STK 1d                   0.0       NaN   \n",
       "2024-01-30 05:00:00 IB-SMART-AAPL_USD_STK 1d                   0.0       NaN   \n",
       "2024-01-31 05:00:00 IB-SMART-AAPL_USD_STK 1d                   0.0       NaN   \n",
       "\n",
       "                                                      num_sells  buy_volume  \\\n",
       "ts                  product               resolution                          \n",
       "2024-01-25 05:00:00 IB-SMART-AAPL_USD_STK 1d                NaN         NaN   \n",
       "2024-01-26 05:00:00 IB-SMART-AAPL_USD_STK 1d                NaN         NaN   \n",
       "2024-01-29 05:00:00 IB-SMART-AAPL_USD_STK 1d                NaN         NaN   \n",
       "2024-01-30 05:00:00 IB-SMART-AAPL_USD_STK 1d                NaN         NaN   \n",
       "2024-01-31 05:00:00 IB-SMART-AAPL_USD_STK 1d                NaN         NaN   \n",
       "\n",
       "                                                      sell_volume first  \n",
       "ts                  product               resolution                     \n",
       "2024-01-25 05:00:00 IB-SMART-AAPL_USD_STK 1d                  NaN   NaN  \n",
       "2024-01-26 05:00:00 IB-SMART-AAPL_USD_STK 1d                  NaN   NaN  \n",
       "2024-01-29 05:00:00 IB-SMART-AAPL_USD_STK 1d                  NaN   NaN  \n",
       "2024-01-30 05:00:00 IB-SMART-AAPL_USD_STK 1d                  NaN   NaN  \n",
       "2024-01-31 05:00:00 IB-SMART-AAPL_USD_STK 1d                  NaN   NaN  "
      ]
     },
     "metadata": {},
     "output_type": "display_data"
    }
   ],
   "source": [
    "# Step 3. add data to strategy\n",
    "## add yfinance data\n",
    "'''\n",
    "IB = Interactive Brokers\n",
    "AAPL = Stock ticker for Apple Inc.\n",
    "USD = Quote currency\n",
    "STK = Stock\n",
    "1d = 1-day data, if use '2d', 2-day aggregated daily data\n",
    "'''\n",
    "strategy.add_data(\n",
    "    'IB', 'AAPL', 'USD', 'STK', resolutions=['1d'],\n",
    "    backtest={\n",
    "        # NOTE: since IB does not provide any historical data for backtesting purpose, use data from 'YAHOO_FINANCE'\n",
    "        'data_source': 'YAHOO_FINANCE',\n",
    "        'start_date': '2024-01-01',\n",
    "        'end_date': '2024-02-01',\n",
    "    }\n",
    ")\n",
    "\n",
    "########################################\n",
    "## add crypto data\n",
    "'''\n",
    "BYBIT = Bybit Cryptocurrency Exchange\n",
    "BTC = bitcoin\n",
    "USDT = Tether\n",
    "PERP = Perpetual, a trading product\n",
    "2d = 2-day data\n",
    "'''\n",
    "strategy.add_data(\n",
    "    'BYBIT', 'BTC', 'USDT', 'PERP', resolutions=['2d'],\n",
    "    backtest={\n",
    "        # NOTE: since BYBIT does provide historical data, no need to specify 'data_source'\n",
    "        'start_date': '2024-01-01',\n",
    "        'end_date': '2024-01-03',\n",
    "    }\n",
    ")\n",
    "########################################\n",
    "\n",
    "# Step 4. run engine\n",
    "engine.run()"
   ]
  },
  {
   "cell_type": "code",
   "execution_count": 8,
   "metadata": {
    "editable": true,
    "slideshow": {
     "slide_type": ""
    },
    "tags": []
   },
   "outputs": [
    {
     "data": {
      "text/html": [
       "<div>\n",
       "<style scoped>\n",
       "    .dataframe tbody tr th:only-of-type {\n",
       "        vertical-align: middle;\n",
       "    }\n",
       "\n",
       "    .dataframe tbody tr th {\n",
       "        vertical-align: top;\n",
       "    }\n",
       "\n",
       "    .dataframe thead th {\n",
       "        text-align: right;\n",
       "    }\n",
       "</style>\n",
       "<table border=\"1\" class=\"dataframe\">\n",
       "  <thead>\n",
       "    <tr style=\"text-align: right;\">\n",
       "      <th></th>\n",
       "      <th></th>\n",
       "      <th></th>\n",
       "      <th>open</th>\n",
       "      <th>high</th>\n",
       "      <th>low</th>\n",
       "      <th>close</th>\n",
       "      <th>volume</th>\n",
       "      <th>dividends</th>\n",
       "      <th>stock_splits</th>\n",
       "      <th>num_buys</th>\n",
       "      <th>num_sells</th>\n",
       "      <th>buy_volume</th>\n",
       "      <th>sell_volume</th>\n",
       "      <th>first</th>\n",
       "    </tr>\n",
       "    <tr>\n",
       "      <th>ts</th>\n",
       "      <th>product</th>\n",
       "      <th>resolution</th>\n",
       "      <th></th>\n",
       "      <th></th>\n",
       "      <th></th>\n",
       "      <th></th>\n",
       "      <th></th>\n",
       "      <th></th>\n",
       "      <th></th>\n",
       "      <th></th>\n",
       "      <th></th>\n",
       "      <th></th>\n",
       "      <th></th>\n",
       "      <th></th>\n",
       "    </tr>\n",
       "  </thead>\n",
       "  <tbody>\n",
       "    <tr>\n",
       "      <th>2024-01-01 00:00:00</th>\n",
       "      <th>CRYPTO-BYBIT-BTC_USDT_PERP</th>\n",
       "      <th>2d</th>\n",
       "      <td>42324.900000</td>\n",
       "      <td>44284.900000</td>\n",
       "      <td>42211.200000</td>\n",
       "      <td>44235.500000</td>\n",
       "      <td>7.912344e+04</td>\n",
       "      <td>NaN</td>\n",
       "      <td>NaN</td>\n",
       "      <td>391185.0</td>\n",
       "      <td>458170.0</td>\n",
       "      <td>41955.424</td>\n",
       "      <td>37168.015</td>\n",
       "      <td>L</td>\n",
       "    </tr>\n",
       "    <tr>\n",
       "      <th>2024-01-02 00:00:00</th>\n",
       "      <th>CRYPTO-BYBIT-BTC_USDT_PERP</th>\n",
       "      <th>2d</th>\n",
       "      <td>44235.500000</td>\n",
       "      <td>45946.500000</td>\n",
       "      <td>44208.700000</td>\n",
       "      <td>44989.000000</td>\n",
       "      <td>1.805301e+05</td>\n",
       "      <td>NaN</td>\n",
       "      <td>NaN</td>\n",
       "      <td>915922.0</td>\n",
       "      <td>880285.0</td>\n",
       "      <td>92160.340</td>\n",
       "      <td>88369.743</td>\n",
       "      <td>L</td>\n",
       "    </tr>\n",
       "    <tr>\n",
       "      <th>2024-01-02 05:00:00</th>\n",
       "      <th>IB-SMART-AAPL_USD_STK</th>\n",
       "      <th>1d</th>\n",
       "      <td>186.911482</td>\n",
       "      <td>188.199846</td>\n",
       "      <td>183.655642</td>\n",
       "      <td>185.403412</td>\n",
       "      <td>8.248870e+07</td>\n",
       "      <td>0.0</td>\n",
       "      <td>0.0</td>\n",
       "      <td>NaN</td>\n",
       "      <td>NaN</td>\n",
       "      <td>NaN</td>\n",
       "      <td>NaN</td>\n",
       "      <td>NaN</td>\n",
       "    </tr>\n",
       "    <tr>\n",
       "      <th>2024-01-03 00:00:00</th>\n",
       "      <th>CRYPTO-BYBIT-BTC_USDT_PERP</th>\n",
       "      <th>2d</th>\n",
       "      <td>44989.000000</td>\n",
       "      <td>45567.800000</td>\n",
       "      <td>40210.000000</td>\n",
       "      <td>42871.900000</td>\n",
       "      <td>3.082176e+05</td>\n",
       "      <td>NaN</td>\n",
       "      <td>NaN</td>\n",
       "      <td>1338537.0</td>\n",
       "      <td>1343969.0</td>\n",
       "      <td>152228.658</td>\n",
       "      <td>155988.895</td>\n",
       "      <td>H</td>\n",
       "    </tr>\n",
       "    <tr>\n",
       "      <th>2024-01-03 05:00:00</th>\n",
       "      <th>IB-SMART-AAPL_USD_STK</th>\n",
       "      <th>1d</th>\n",
       "      <td>183.985237</td>\n",
       "      <td>185.643125</td>\n",
       "      <td>183.196235</td>\n",
       "      <td>184.015198</td>\n",
       "      <td>5.841450e+07</td>\n",
       "      <td>0.0</td>\n",
       "      <td>0.0</td>\n",
       "      <td>NaN</td>\n",
       "      <td>NaN</td>\n",
       "      <td>NaN</td>\n",
       "      <td>NaN</td>\n",
       "      <td>NaN</td>\n",
       "    </tr>\n",
       "  </tbody>\n",
       "</table>\n",
       "</div>"
      ],
      "text/plain": [
       "                                                                   open  \\\n",
       "ts                  product                    resolution                 \n",
       "2024-01-01 00:00:00 CRYPTO-BYBIT-BTC_USDT_PERP 2d          42324.900000   \n",
       "2024-01-02 00:00:00 CRYPTO-BYBIT-BTC_USDT_PERP 2d          44235.500000   \n",
       "2024-01-02 05:00:00 IB-SMART-AAPL_USD_STK      1d            186.911482   \n",
       "2024-01-03 00:00:00 CRYPTO-BYBIT-BTC_USDT_PERP 2d          44989.000000   \n",
       "2024-01-03 05:00:00 IB-SMART-AAPL_USD_STK      1d            183.985237   \n",
       "\n",
       "                                                                   high  \\\n",
       "ts                  product                    resolution                 \n",
       "2024-01-01 00:00:00 CRYPTO-BYBIT-BTC_USDT_PERP 2d          44284.900000   \n",
       "2024-01-02 00:00:00 CRYPTO-BYBIT-BTC_USDT_PERP 2d          45946.500000   \n",
       "2024-01-02 05:00:00 IB-SMART-AAPL_USD_STK      1d            188.199846   \n",
       "2024-01-03 00:00:00 CRYPTO-BYBIT-BTC_USDT_PERP 2d          45567.800000   \n",
       "2024-01-03 05:00:00 IB-SMART-AAPL_USD_STK      1d            185.643125   \n",
       "\n",
       "                                                                    low  \\\n",
       "ts                  product                    resolution                 \n",
       "2024-01-01 00:00:00 CRYPTO-BYBIT-BTC_USDT_PERP 2d          42211.200000   \n",
       "2024-01-02 00:00:00 CRYPTO-BYBIT-BTC_USDT_PERP 2d          44208.700000   \n",
       "2024-01-02 05:00:00 IB-SMART-AAPL_USD_STK      1d            183.655642   \n",
       "2024-01-03 00:00:00 CRYPTO-BYBIT-BTC_USDT_PERP 2d          40210.000000   \n",
       "2024-01-03 05:00:00 IB-SMART-AAPL_USD_STK      1d            183.196235   \n",
       "\n",
       "                                                                  close  \\\n",
       "ts                  product                    resolution                 \n",
       "2024-01-01 00:00:00 CRYPTO-BYBIT-BTC_USDT_PERP 2d          44235.500000   \n",
       "2024-01-02 00:00:00 CRYPTO-BYBIT-BTC_USDT_PERP 2d          44989.000000   \n",
       "2024-01-02 05:00:00 IB-SMART-AAPL_USD_STK      1d            185.403412   \n",
       "2024-01-03 00:00:00 CRYPTO-BYBIT-BTC_USDT_PERP 2d          42871.900000   \n",
       "2024-01-03 05:00:00 IB-SMART-AAPL_USD_STK      1d            184.015198   \n",
       "\n",
       "                                                                 volume  \\\n",
       "ts                  product                    resolution                 \n",
       "2024-01-01 00:00:00 CRYPTO-BYBIT-BTC_USDT_PERP 2d          7.912344e+04   \n",
       "2024-01-02 00:00:00 CRYPTO-BYBIT-BTC_USDT_PERP 2d          1.805301e+05   \n",
       "2024-01-02 05:00:00 IB-SMART-AAPL_USD_STK      1d          8.248870e+07   \n",
       "2024-01-03 00:00:00 CRYPTO-BYBIT-BTC_USDT_PERP 2d          3.082176e+05   \n",
       "2024-01-03 05:00:00 IB-SMART-AAPL_USD_STK      1d          5.841450e+07   \n",
       "\n",
       "                                                           dividends  \\\n",
       "ts                  product                    resolution              \n",
       "2024-01-01 00:00:00 CRYPTO-BYBIT-BTC_USDT_PERP 2d                NaN   \n",
       "2024-01-02 00:00:00 CRYPTO-BYBIT-BTC_USDT_PERP 2d                NaN   \n",
       "2024-01-02 05:00:00 IB-SMART-AAPL_USD_STK      1d                0.0   \n",
       "2024-01-03 00:00:00 CRYPTO-BYBIT-BTC_USDT_PERP 2d                NaN   \n",
       "2024-01-03 05:00:00 IB-SMART-AAPL_USD_STK      1d                0.0   \n",
       "\n",
       "                                                           stock_splits  \\\n",
       "ts                  product                    resolution                 \n",
       "2024-01-01 00:00:00 CRYPTO-BYBIT-BTC_USDT_PERP 2d                   NaN   \n",
       "2024-01-02 00:00:00 CRYPTO-BYBIT-BTC_USDT_PERP 2d                   NaN   \n",
       "2024-01-02 05:00:00 IB-SMART-AAPL_USD_STK      1d                   0.0   \n",
       "2024-01-03 00:00:00 CRYPTO-BYBIT-BTC_USDT_PERP 2d                   NaN   \n",
       "2024-01-03 05:00:00 IB-SMART-AAPL_USD_STK      1d                   0.0   \n",
       "\n",
       "                                                            num_buys  \\\n",
       "ts                  product                    resolution              \n",
       "2024-01-01 00:00:00 CRYPTO-BYBIT-BTC_USDT_PERP 2d           391185.0   \n",
       "2024-01-02 00:00:00 CRYPTO-BYBIT-BTC_USDT_PERP 2d           915922.0   \n",
       "2024-01-02 05:00:00 IB-SMART-AAPL_USD_STK      1d                NaN   \n",
       "2024-01-03 00:00:00 CRYPTO-BYBIT-BTC_USDT_PERP 2d          1338537.0   \n",
       "2024-01-03 05:00:00 IB-SMART-AAPL_USD_STK      1d                NaN   \n",
       "\n",
       "                                                           num_sells  \\\n",
       "ts                  product                    resolution              \n",
       "2024-01-01 00:00:00 CRYPTO-BYBIT-BTC_USDT_PERP 2d           458170.0   \n",
       "2024-01-02 00:00:00 CRYPTO-BYBIT-BTC_USDT_PERP 2d           880285.0   \n",
       "2024-01-02 05:00:00 IB-SMART-AAPL_USD_STK      1d                NaN   \n",
       "2024-01-03 00:00:00 CRYPTO-BYBIT-BTC_USDT_PERP 2d          1343969.0   \n",
       "2024-01-03 05:00:00 IB-SMART-AAPL_USD_STK      1d                NaN   \n",
       "\n",
       "                                                           buy_volume  \\\n",
       "ts                  product                    resolution               \n",
       "2024-01-01 00:00:00 CRYPTO-BYBIT-BTC_USDT_PERP 2d           41955.424   \n",
       "2024-01-02 00:00:00 CRYPTO-BYBIT-BTC_USDT_PERP 2d           92160.340   \n",
       "2024-01-02 05:00:00 IB-SMART-AAPL_USD_STK      1d                 NaN   \n",
       "2024-01-03 00:00:00 CRYPTO-BYBIT-BTC_USDT_PERP 2d          152228.658   \n",
       "2024-01-03 05:00:00 IB-SMART-AAPL_USD_STK      1d                 NaN   \n",
       "\n",
       "                                                           sell_volume first  \n",
       "ts                  product                    resolution                     \n",
       "2024-01-01 00:00:00 CRYPTO-BYBIT-BTC_USDT_PERP 2d            37168.015     L  \n",
       "2024-01-02 00:00:00 CRYPTO-BYBIT-BTC_USDT_PERP 2d            88369.743     L  \n",
       "2024-01-02 05:00:00 IB-SMART-AAPL_USD_STK      1d                  NaN   NaN  \n",
       "2024-01-03 00:00:00 CRYPTO-BYBIT-BTC_USDT_PERP 2d           155988.895     H  \n",
       "2024-01-03 05:00:00 IB-SMART-AAPL_USD_STK      1d                  NaN   NaN  "
      ]
     },
     "execution_count": 8,
     "metadata": {},
     "output_type": "execute_result"
    }
   ],
   "source": [
    "df = strategy.get_df()\n",
    "df.head()"
   ]
  },
  {
   "cell_type": "code",
   "execution_count": null,
   "metadata": {},
   "outputs": [],
   "source": []
  }
 ],
 "metadata": {
  "kernelspec": {
   "display_name": "Python 3 (ipykernel)",
   "language": "python",
   "name": "python3"
  },
  "language_info": {
   "codemirror_mode": {
    "name": "ipython",
    "version": 3
   },
   "file_extension": ".py",
   "mimetype": "text/x-python",
   "name": "python",
   "nbconvert_exporter": "python",
   "pygments_lexer": "ipython3",
   "version": "3.11.7"
  }
 },
 "nbformat": 4,
 "nbformat_minor": 4
}
