{
 "cells": [
  {
   "cell_type": "markdown",
   "metadata": {},
   "source": [
    "# Event-Driven Backtesting"
   ]
  },
  {
   "cell_type": "code",
   "execution_count": 1,
   "metadata": {},
   "outputs": [
    {
     "data": {
      "text/plain": [
       "'0.0.1.dev4'"
      ]
     },
     "execution_count": 1,
     "metadata": {},
     "output_type": "execute_result"
    }
   ],
   "source": [
    "import pfund as pf\n",
    "from IPython.display import display\n",
    "\n",
    "pf.__version__"
   ]
  },
  {
   "cell_type": "code",
   "execution_count": null,
   "metadata": {},
   "outputs": [],
   "source": [
    "# just for typing clarity\n",
    "from pfund.products.product_ib import IBProduct\n",
    "from pfund.products.product_crypto import CryptoProduct\n",
    "from pfund.datas.data_bar import BarData\n",
    "\n",
    "\n",
    "class DemoStrategy(pf.Strategy):\n",
    "    # called back by BacktestEngine(mode='event_driven') and TradeEngine()\n",
    "    def on_bar(self, product: CryptoProduct | IBProduct, bar: BarData, ts: float):\n",
    "        print(product)\n",
    "        print(bar)\n",
    "        print(ts)"
   ]
  },
  {
   "cell_type": "code",
   "execution_count": null,
   "metadata": {},
   "outputs": [],
   "source": [
    "# Step 3. add data to strategy\n",
    "## add yfinance data\n",
    "'''\n",
    "IB = Interactive Brokers\n",
    "AAPL = Stock ticker for Apple Inc.\n",
    "USD = Quote currency\n",
    "STK = Stock\n",
    "1d = 1-day data, if use '2d', 2-day aggregated daily data\n",
    "'''\n",
    "strategy.add_data(\n",
    "    'IB', 'AAPL', 'USD', 'STK', resolutions=['1d'],\n",
    "    backtest={\n",
    "        # NOTE: since IB does not provide any historical data for backtesting purpose, use data from 'YAHOO_FINANCE'\n",
    "        'data_source': 'YAHOO_FINANCE',\n",
    "        'start_date': '2024-01-01',\n",
    "        'end_date': '2024-02-01',\n",
    "    }\n",
    ")\n",
    "\n",
    "########################################\n",
    "## add crypto data\n",
    "'''\n",
    "BYBIT = Bybit Cryptocurrency Exchange\n",
    "BTC = bitcoin\n",
    "USDT = Tether\n",
    "PERP = Perpetual, a trading product\n",
    "1m = 1-minute data\n",
    "'''\n",
    "strategy.add_data(\n",
    "    'BYBIT', 'BTC', 'USDT', 'PERP', resolutions=['1m'],\n",
    "    backtest={\n",
    "        # NOTE: since BYBIT does provide historical data, no need to specify 'data_source'\n",
    "        'start_date': '2024-01-01',\n",
    "        'end_date': '2024-01-03',\n",
    "    }\n",
    ")\n",
    "########################################\n",
    "\n",
    "# Step 4. run engine\n",
    "engine.run()"
   ]
  }
 ],
 "metadata": {
  "kernelspec": {
   "display_name": "Python 3 (ipykernel)",
   "language": "python",
   "name": "python3"
  },
  "language_info": {
   "codemirror_mode": {
    "name": "ipython",
    "version": 3
   },
   "file_extension": ".py",
   "mimetype": "text/x-python",
   "name": "python",
   "nbconvert_exporter": "python",
   "pygments_lexer": "ipython3",
   "version": "3.11.7"
  }
 },
 "nbformat": 4,
 "nbformat_minor": 4
}
